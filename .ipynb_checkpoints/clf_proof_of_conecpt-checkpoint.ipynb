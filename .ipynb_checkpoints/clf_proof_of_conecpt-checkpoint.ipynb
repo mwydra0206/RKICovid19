{
 "metadata": {
  "language_info": {
   "codemirror_mode": {
    "name": "ipython",
    "version": 3
   },
   "file_extension": ".py",
   "mimetype": "text/x-python",
   "name": "python",
   "nbconvert_exporter": "python",
   "pygments_lexer": "ipython3",
   "version": "3.7.3-final"
  },
  "orig_nbformat": 2,
  "kernelspec": {
   "name": "python3",
   "display_name": "Python 3"
  }
 },
 "nbformat": 4,
 "nbformat_minor": 2,
 "cells": [
  {
   "source": [
    "# Classification\n",
    "## Proof of Concept\n",
    "\n",
    "First import needed modules and load the dataset in complete"
   ],
   "cell_type": "markdown",
   "metadata": {}
  },
  {
   "cell_type": "code",
   "execution_count": 1,
   "metadata": {},
   "outputs": [],
   "source": [
    "# Imports for the notebook\n",
    "# General imports\n",
    "import pandas as pd\n",
    "import numpy as np\n",
    "\n",
    "# Visualization frameworks\n",
    "import matplotlib.pyplot as plt\n",
    "import seaborn as sns\n",
    "sns.set_style(style=\"darkgrid\")\n",
    "\n",
    "# Importing selfbuild modules\n",
    "%load_ext autoreload\n",
    "%autoreload 2"
   ]
  },
  {
   "cell_type": "code",
   "execution_count": 6,
   "metadata": {},
   "outputs": [
    {
     "output_type": "execute_result",
     "data": {
      "text/plain": [
       "          IdBundesland          Bundesland     Landkreis Altersgruppe  \\\n",
       "ObjectId                                                                \n",
       "45167592             1  Schleswig-Holstein  SK Flensburg      A00-A04   \n",
       "45167593             1  Schleswig-Holstein  SK Flensburg      A00-A04   \n",
       "45167594             1  Schleswig-Holstein  SK Flensburg      A00-A04   \n",
       "45167595             1  Schleswig-Holstein  SK Flensburg      A05-A14   \n",
       "45167596             1  Schleswig-Holstein  SK Flensburg      A05-A14   \n",
       "\n",
       "         Geschlecht  AnzahlFall  AnzahlTodesfall Meldedatum  IdLandkreis  \\\n",
       "ObjectId                                                                   \n",
       "45167592          M           1                0 2020-09-30         1001   \n",
       "45167593          W           1                0 2020-08-24         1001   \n",
       "45167594          W           1                0 2020-09-26         1001   \n",
       "45167595          M           1                0 2020-09-25         1001   \n",
       "45167596          M           1                0 2020-09-26         1001   \n",
       "\n",
       "         Datenstand  NeuerFall  NeuerTodesfall   Refdatum  NeuGenesen  \\\n",
       "ObjectId                                                                \n",
       "45167592 2020-10-19          0              -9 2020-09-30           0   \n",
       "45167593 2020-10-19          0              -9 2020-08-24           0   \n",
       "45167594 2020-10-19          0              -9 2020-09-26           0   \n",
       "45167595 2020-10-19          0              -9 2020-09-21           0   \n",
       "45167596 2020-10-19          0              -9 2020-09-21           0   \n",
       "\n",
       "          AnzahlGenesen  IstErkrankungsbeginn      Altersgruppe2  \n",
       "ObjectId                                                          \n",
       "45167592              1                     0  Nicht übermittelt  \n",
       "45167593              1                     0  Nicht übermittelt  \n",
       "45167594              1                     0  Nicht übermittelt  \n",
       "45167595              1                     1  Nicht übermittelt  \n",
       "45167596              1                     1  Nicht übermittelt  "
      ],
      "text/html": "<div>\n<style scoped>\n    .dataframe tbody tr th:only-of-type {\n        vertical-align: middle;\n    }\n\n    .dataframe tbody tr th {\n        vertical-align: top;\n    }\n\n    .dataframe thead th {\n        text-align: right;\n    }\n</style>\n<table border=\"1\" class=\"dataframe\">\n  <thead>\n    <tr style=\"text-align: right;\">\n      <th></th>\n      <th>IdBundesland</th>\n      <th>Bundesland</th>\n      <th>Landkreis</th>\n      <th>Altersgruppe</th>\n      <th>Geschlecht</th>\n      <th>AnzahlFall</th>\n      <th>AnzahlTodesfall</th>\n      <th>Meldedatum</th>\n      <th>IdLandkreis</th>\n      <th>Datenstand</th>\n      <th>NeuerFall</th>\n      <th>NeuerTodesfall</th>\n      <th>Refdatum</th>\n      <th>NeuGenesen</th>\n      <th>AnzahlGenesen</th>\n      <th>IstErkrankungsbeginn</th>\n      <th>Altersgruppe2</th>\n    </tr>\n    <tr>\n      <th>ObjectId</th>\n      <th></th>\n      <th></th>\n      <th></th>\n      <th></th>\n      <th></th>\n      <th></th>\n      <th></th>\n      <th></th>\n      <th></th>\n      <th></th>\n      <th></th>\n      <th></th>\n      <th></th>\n      <th></th>\n      <th></th>\n      <th></th>\n      <th></th>\n    </tr>\n  </thead>\n  <tbody>\n    <tr>\n      <td>45167592</td>\n      <td>1</td>\n      <td>Schleswig-Holstein</td>\n      <td>SK Flensburg</td>\n      <td>A00-A04</td>\n      <td>M</td>\n      <td>1</td>\n      <td>0</td>\n      <td>2020-09-30</td>\n      <td>1001</td>\n      <td>2020-10-19</td>\n      <td>0</td>\n      <td>-9</td>\n      <td>2020-09-30</td>\n      <td>0</td>\n      <td>1</td>\n      <td>0</td>\n      <td>Nicht übermittelt</td>\n    </tr>\n    <tr>\n      <td>45167593</td>\n      <td>1</td>\n      <td>Schleswig-Holstein</td>\n      <td>SK Flensburg</td>\n      <td>A00-A04</td>\n      <td>W</td>\n      <td>1</td>\n      <td>0</td>\n      <td>2020-08-24</td>\n      <td>1001</td>\n      <td>2020-10-19</td>\n      <td>0</td>\n      <td>-9</td>\n      <td>2020-08-24</td>\n      <td>0</td>\n      <td>1</td>\n      <td>0</td>\n      <td>Nicht übermittelt</td>\n    </tr>\n    <tr>\n      <td>45167594</td>\n      <td>1</td>\n      <td>Schleswig-Holstein</td>\n      <td>SK Flensburg</td>\n      <td>A00-A04</td>\n      <td>W</td>\n      <td>1</td>\n      <td>0</td>\n      <td>2020-09-26</td>\n      <td>1001</td>\n      <td>2020-10-19</td>\n      <td>0</td>\n      <td>-9</td>\n      <td>2020-09-26</td>\n      <td>0</td>\n      <td>1</td>\n      <td>0</td>\n      <td>Nicht übermittelt</td>\n    </tr>\n    <tr>\n      <td>45167595</td>\n      <td>1</td>\n      <td>Schleswig-Holstein</td>\n      <td>SK Flensburg</td>\n      <td>A05-A14</td>\n      <td>M</td>\n      <td>1</td>\n      <td>0</td>\n      <td>2020-09-25</td>\n      <td>1001</td>\n      <td>2020-10-19</td>\n      <td>0</td>\n      <td>-9</td>\n      <td>2020-09-21</td>\n      <td>0</td>\n      <td>1</td>\n      <td>1</td>\n      <td>Nicht übermittelt</td>\n    </tr>\n    <tr>\n      <td>45167596</td>\n      <td>1</td>\n      <td>Schleswig-Holstein</td>\n      <td>SK Flensburg</td>\n      <td>A05-A14</td>\n      <td>M</td>\n      <td>1</td>\n      <td>0</td>\n      <td>2020-09-26</td>\n      <td>1001</td>\n      <td>2020-10-19</td>\n      <td>0</td>\n      <td>-9</td>\n      <td>2020-09-21</td>\n      <td>0</td>\n      <td>1</td>\n      <td>1</td>\n      <td>Nicht übermittelt</td>\n    </tr>\n  </tbody>\n</table>\n</div>"
     },
     "metadata": {},
     "execution_count": 6
    }
   ],
   "source": [
    "import modules.DataLoader as DataLoader\n",
    "\n",
    "covid19 = DataLoader.load_covid19()\n",
    "\n",
    "covid19.head(5)"
   ]
  },
  {
   "source": [
    "# First classification of Death or not:\n",
    "\n",
    "1.  Create the class feature and join to the dataframe. \n",
    "2.  Select the features \"Altersgruppe\", \"Geschlecht\", \"Bundesland\" and \"Landkreis\".\n",
    "3.  Make \"Altersgruppe\" a ordinal class.\n",
    "4.  Build a classification model."
   ],
   "cell_type": "markdown",
   "metadata": {}
  },
  {
   "cell_type": "code",
   "execution_count": 7,
   "metadata": {},
   "outputs": [
    {
     "output_type": "stream",
     "name": "stdout",
     "text": [
      "['Bundesland', 'Landkreis', 'Altersgruppe', 'Geschlecht', 'Meldedatum', 'Deathcase']\n"
     ]
    },
    {
     "output_type": "execute_result",
     "data": {
      "text/plain": [
       "          IdBundesland          Bundesland     Landkreis Altersgruppe  \\\n",
       "ObjectId                                                                \n",
       "45167592             1  Schleswig-Holstein  SK Flensburg      A00-A04   \n",
       "45167593             1  Schleswig-Holstein  SK Flensburg      A00-A04   \n",
       "45167594             1  Schleswig-Holstein  SK Flensburg      A00-A04   \n",
       "45167595             1  Schleswig-Holstein  SK Flensburg      A05-A14   \n",
       "45167596             1  Schleswig-Holstein  SK Flensburg      A05-A14   \n",
       "\n",
       "         Geschlecht  AnzahlFall  AnzahlTodesfall Meldedatum  IdLandkreis  \\\n",
       "ObjectId                                                                   \n",
       "45167592          M           1                0 2020-09-30         1001   \n",
       "45167593          W           1                0 2020-08-24         1001   \n",
       "45167594          W           1                0 2020-09-26         1001   \n",
       "45167595          M           1                0 2020-09-25         1001   \n",
       "45167596          M           1                0 2020-09-26         1001   \n",
       "\n",
       "         Datenstand  NeuerFall  NeuerTodesfall   Refdatum  NeuGenesen  \\\n",
       "ObjectId                                                                \n",
       "45167592 2020-10-19          0              -9 2020-09-30           0   \n",
       "45167593 2020-10-19          0              -9 2020-08-24           0   \n",
       "45167594 2020-10-19          0              -9 2020-09-26           0   \n",
       "45167595 2020-10-19          0              -9 2020-09-21           0   \n",
       "45167596 2020-10-19          0              -9 2020-09-21           0   \n",
       "\n",
       "          AnzahlGenesen  IstErkrankungsbeginn      Altersgruppe2  \n",
       "ObjectId                                                          \n",
       "45167592              1                     0  Nicht übermittelt  \n",
       "45167593              1                     0  Nicht übermittelt  \n",
       "45167594              1                     0  Nicht übermittelt  \n",
       "45167595              1                     1  Nicht übermittelt  \n",
       "45167596              1                     1  Nicht übermittelt  "
      ],
      "text/html": "<div>\n<style scoped>\n    .dataframe tbody tr th:only-of-type {\n        vertical-align: middle;\n    }\n\n    .dataframe tbody tr th {\n        vertical-align: top;\n    }\n\n    .dataframe thead th {\n        text-align: right;\n    }\n</style>\n<table border=\"1\" class=\"dataframe\">\n  <thead>\n    <tr style=\"text-align: right;\">\n      <th></th>\n      <th>IdBundesland</th>\n      <th>Bundesland</th>\n      <th>Landkreis</th>\n      <th>Altersgruppe</th>\n      <th>Geschlecht</th>\n      <th>AnzahlFall</th>\n      <th>AnzahlTodesfall</th>\n      <th>Meldedatum</th>\n      <th>IdLandkreis</th>\n      <th>Datenstand</th>\n      <th>NeuerFall</th>\n      <th>NeuerTodesfall</th>\n      <th>Refdatum</th>\n      <th>NeuGenesen</th>\n      <th>AnzahlGenesen</th>\n      <th>IstErkrankungsbeginn</th>\n      <th>Altersgruppe2</th>\n    </tr>\n    <tr>\n      <th>ObjectId</th>\n      <th></th>\n      <th></th>\n      <th></th>\n      <th></th>\n      <th></th>\n      <th></th>\n      <th></th>\n      <th></th>\n      <th></th>\n      <th></th>\n      <th></th>\n      <th></th>\n      <th></th>\n      <th></th>\n      <th></th>\n      <th></th>\n      <th></th>\n    </tr>\n  </thead>\n  <tbody>\n    <tr>\n      <td>45167592</td>\n      <td>1</td>\n      <td>Schleswig-Holstein</td>\n      <td>SK Flensburg</td>\n      <td>A00-A04</td>\n      <td>M</td>\n      <td>1</td>\n      <td>0</td>\n      <td>2020-09-30</td>\n      <td>1001</td>\n      <td>2020-10-19</td>\n      <td>0</td>\n      <td>-9</td>\n      <td>2020-09-30</td>\n      <td>0</td>\n      <td>1</td>\n      <td>0</td>\n      <td>Nicht übermittelt</td>\n    </tr>\n    <tr>\n      <td>45167593</td>\n      <td>1</td>\n      <td>Schleswig-Holstein</td>\n      <td>SK Flensburg</td>\n      <td>A00-A04</td>\n      <td>W</td>\n      <td>1</td>\n      <td>0</td>\n      <td>2020-08-24</td>\n      <td>1001</td>\n      <td>2020-10-19</td>\n      <td>0</td>\n      <td>-9</td>\n      <td>2020-08-24</td>\n      <td>0</td>\n      <td>1</td>\n      <td>0</td>\n      <td>Nicht übermittelt</td>\n    </tr>\n    <tr>\n      <td>45167594</td>\n      <td>1</td>\n      <td>Schleswig-Holstein</td>\n      <td>SK Flensburg</td>\n      <td>A00-A04</td>\n      <td>W</td>\n      <td>1</td>\n      <td>0</td>\n      <td>2020-09-26</td>\n      <td>1001</td>\n      <td>2020-10-19</td>\n      <td>0</td>\n      <td>-9</td>\n      <td>2020-09-26</td>\n      <td>0</td>\n      <td>1</td>\n      <td>0</td>\n      <td>Nicht übermittelt</td>\n    </tr>\n    <tr>\n      <td>45167595</td>\n      <td>1</td>\n      <td>Schleswig-Holstein</td>\n      <td>SK Flensburg</td>\n      <td>A05-A14</td>\n      <td>M</td>\n      <td>1</td>\n      <td>0</td>\n      <td>2020-09-25</td>\n      <td>1001</td>\n      <td>2020-10-19</td>\n      <td>0</td>\n      <td>-9</td>\n      <td>2020-09-21</td>\n      <td>0</td>\n      <td>1</td>\n      <td>1</td>\n      <td>Nicht übermittelt</td>\n    </tr>\n    <tr>\n      <td>45167596</td>\n      <td>1</td>\n      <td>Schleswig-Holstein</td>\n      <td>SK Flensburg</td>\n      <td>A05-A14</td>\n      <td>M</td>\n      <td>1</td>\n      <td>0</td>\n      <td>2020-09-26</td>\n      <td>1001</td>\n      <td>2020-10-19</td>\n      <td>0</td>\n      <td>-9</td>\n      <td>2020-09-21</td>\n      <td>0</td>\n      <td>1</td>\n      <td>1</td>\n      <td>Nicht übermittelt</td>\n    </tr>\n  </tbody>\n</table>\n</div>"
     },
     "metadata": {},
     "execution_count": 7
    }
   ],
   "source": [
    "# Load the death_case_test and features\n",
    "covid19_death_test, feats = DataLoader.load_covid19_for_deathcase()\n",
    "\n",
    "print(feats)\n",
    "covid19.head(5)"
   ]
  },
  {
   "cell_type": "code",
   "execution_count": 9,
   "metadata": {},
   "outputs": [
    {
     "output_type": "stream",
     "name": "stdout",
     "text": [
      "Current count of NaN values:\n"
     ]
    },
    {
     "output_type": "execute_result",
     "data": {
      "text/plain": [
       "Bundesland         0\n",
       "Landkreis          0\n",
       "Altersgruppe     422\n",
       "Geschlecht      1130\n",
       "Meldedatum         0\n",
       "Deathcase          0\n",
       "dtype: int64"
      ]
     },
     "metadata": {},
     "execution_count": 9
    }
   ],
   "source": [
    "print(\"Current count of NaN values:\")\n",
    "covid19_death_test.isna().sum()"
   ]
  },
  {
   "cell_type": "code",
   "execution_count": 10,
   "metadata": {},
   "outputs": [
    {
     "output_type": "execute_result",
     "data": {
      "text/plain": [
       "Bundesland      0\n",
       "Landkreis       0\n",
       "Altersgruppe    0\n",
       "Geschlecht      4\n",
       "Meldedatum      0\n",
       "Deathcase       0\n",
       "dtype: int64"
      ]
     },
     "metadata": {},
     "execution_count": 10
    }
   ],
   "source": [
    "# Lets look in which class the nan values appear:\n",
    "covid19_death_test[covid19_death_test[\"Deathcase\"] == True].isna().sum()"
   ]
  },
  {
   "cell_type": "code",
   "execution_count": 11,
   "metadata": {},
   "outputs": [
    {
     "output_type": "stream",
     "name": "stdout",
     "text": [
      "Cleaned count of NaN values\n"
     ]
    },
    {
     "output_type": "execute_result",
     "data": {
      "text/plain": [
       "Bundesland      0\n",
       "Landkreis       0\n",
       "Altersgruppe    0\n",
       "Geschlecht      0\n",
       "Meldedatum      0\n",
       "Deathcase       0\n",
       "dtype: int64"
      ]
     },
     "metadata": {},
     "execution_count": 11
    }
   ],
   "source": [
    "# Only four of the Deathcases got unkown values, so we can drop them from the dataset\n",
    "covid19_death_test = covid19_death_test.dropna()\n",
    "\n",
    "print(\"Cleaned count of NaN values\")\n",
    "covid19_death_test.isna().sum()"
   ]
  },
  {
   "cell_type": "code",
   "execution_count": 12,
   "metadata": {},
   "outputs": [
    {
     "output_type": "stream",
     "name": "stdout",
     "text": [
      "              precision    recall  f1-score   support\n\n       False       0.97      1.00      0.98     53590\n        True       0.42      0.02      0.05      1872\n\n    accuracy                           0.97     55462\n   macro avg       0.69      0.51      0.51     55462\nweighted avg       0.95      0.97      0.95     55462\n\n"
     ]
    },
    {
     "output_type": "execute_result",
     "data": {
      "text/plain": [
       "<sklearn.metrics._plot.confusion_matrix.ConfusionMatrixDisplay at 0x7fee43948ba8>"
      ]
     },
     "metadata": {},
     "execution_count": 12
    },
    {
     "output_type": "display_data",
     "data": {
      "text/plain": "<Figure size 432x288 with 2 Axes>",
      "image/svg+xml": "<?xml version=\"1.0\" encoding=\"utf-8\" standalone=\"no\"?>\n<!DOCTYPE svg PUBLIC \"-//W3C//DTD SVG 1.1//EN\"\n  \"http://www.w3.org/Graphics/SVG/1.1/DTD/svg11.dtd\">\n<!-- Created with matplotlib (https://matplotlib.org/) -->\n<svg height=\"261.130625pt\" version=\"1.1\" viewBox=\"0 0 338.853562 261.130625\" width=\"338.853562pt\" xmlns=\"http://www.w3.org/2000/svg\" xmlns:xlink=\"http://www.w3.org/1999/xlink\">\n <defs>\n  <style type=\"text/css\">\n*{stroke-linecap:butt;stroke-linejoin:round;}\n  </style>\n </defs>\n <g id=\"figure_1\">\n  <g id=\"patch_1\">\n   <path d=\"M 0 261.130625 \nL 338.853562 261.130625 \nL 338.853562 0 \nL 0 0 \nz\n\" style=\"fill:#ffffff;\"/>\n  </g>\n  <g id=\"axes_1\">\n   <g id=\"patch_2\">\n    <path d=\"M 51.796875 224.64 \nL 269.236875 224.64 \nL 269.236875 7.2 \nL 51.796875 7.2 \nz\n\" style=\"fill:#eaeaf2;\"/>\n   </g>\n   <g clip-path=\"url(#pe00722599f)\">\n    <image height=\"218\" id=\"imagee9863ab3d6\" transform=\"scale(1 -1)translate(0 -218)\" width=\"218\" x=\"51.796875\" xlink:href=\"data:image/png;base64,\niVBORw0KGgoAAAANSUhEUgAAANoAAADaCAYAAADAHVzbAAAABHNCSVQICAgIfAhkiAAAApdJREFUeJzt1TERwlAABUFCHQXUCEAFyIh8FKSERMNv7g/DroLX3LzluW7HhZ/y3ffZExh0nT0A/oHQICA0CAgNAkKDgNAgIDQICA0CQoOA0CAgNAgIDQJCg4DQICA0CAgNAkKDgNAgIDQICA0CQoOA0CAgNAgIDQJCg4DQICA0CAgNAkKDgNAgIDQICA0CQoOA0CAgNAgIDQJCg4DQICA0CAgNAkKDgNAgIDQICA0CQoOA0CAgNAgIDQJCg4DQICA0CAgNAkKDgNAgIDQICA0CQoOA0CAgNAgIDQJCg4DQICA0CAgNAkKDgNAgIDQICA0CQoOA0CAgNAgIDQJCg4DQICA0CAgNAkKDgNAgIDQICA0CQoOA0CAgNAgIDQJCg4DQICA0CAgNAkKDgNAgIDQICA0CQoOA0CAgNAgIDQJCg4DQICA0CAgNAkKDgNAgIDQICA0CQoOA0CAgNAgIDQLL530/Zo9gzOv2mD2BQR4NAkKDgNAgIDQICA0CQoOA0CAgNAgIDQJCg4DQICA0CAgNAkKDgNAgIDQICA0CQoOA0CAgNAgIDQJCg4DQICA0CAgNAkKDgNAgIDQICA0CQoOA0CAgNAgIDQJCg4DQICA0CAgNAkKDgNAgIDQICA0CQoOA0CAgNAgIDQJCg4DQICA0CAgNAkKDgNAgIDQICA0CQoOA0CAgNAgIDQJCg4DQICA0CAgNAkKDgNAgIDQICA0CQoOA0CAgNAgIDQJCg4DQICA0CAgNAkKDgNAgIDQICA0CQoOA0CAgNAgIDQJCg4DQICA0CAgNAkKDgNAgIDQICA0CQoOA0CAgNAgIDQJCg4DQICA0CAgNAkKDgNAgIDQICA0CQoOA0CAgNAgIDQJCg4DQICA0CJyjDQnjVeBVnAAAAABJRU5ErkJggg==\" y=\"-6.64\"/>\n   </g>\n   <g id=\"matplotlib.axis_1\">\n    <g id=\"xtick_1\">\n     <g id=\"line2d_1\">\n      <path clip-path=\"url(#pe00722599f)\" d=\"M 106.156875 224.64 \nL 106.156875 7.2 \n\" style=\"fill:none;stroke:#ffffff;stroke-linecap:round;stroke-width:0.8;\"/>\n     </g>\n     <g id=\"text_1\">\n      <!-- False -->\n      <defs>\n       <path d=\"M 8.203125 0 \nL 8.203125 71.578125 \nL 56.5 71.578125 \nL 56.5 63.140625 \nL 17.671875 63.140625 \nL 17.671875 40.96875 \nL 51.265625 40.96875 \nL 51.265625 32.515625 \nL 17.671875 32.515625 \nL 17.671875 0 \nz\n\" id=\"ArialMT-70\"/>\n       <path d=\"M 40.4375 6.390625 \nQ 35.546875 2.25 31.03125 0.53125 \nQ 26.515625 -1.171875 21.34375 -1.171875 \nQ 12.796875 -1.171875 8.203125 3 \nQ 3.609375 7.171875 3.609375 13.671875 \nQ 3.609375 17.484375 5.34375 20.625 \nQ 7.078125 23.78125 9.890625 25.6875 \nQ 12.703125 27.59375 16.21875 28.5625 \nQ 18.796875 29.25 24.03125 29.890625 \nQ 34.671875 31.15625 39.703125 32.90625 \nQ 39.75 34.71875 39.75 35.203125 \nQ 39.75 40.578125 37.25 42.78125 \nQ 33.890625 45.75 27.25 45.75 \nQ 21.046875 45.75 18.09375 43.578125 \nQ 15.140625 41.40625 13.71875 35.890625 \nL 5.125 37.0625 \nQ 6.296875 42.578125 8.984375 45.96875 \nQ 11.671875 49.359375 16.75 51.1875 \nQ 21.828125 53.03125 28.515625 53.03125 \nQ 35.15625 53.03125 39.296875 51.46875 \nQ 43.453125 49.90625 45.40625 47.53125 \nQ 47.359375 45.171875 48.140625 41.546875 \nQ 48.578125 39.3125 48.578125 33.453125 \nL 48.578125 21.734375 \nQ 48.578125 9.46875 49.140625 6.21875 \nQ 49.703125 2.984375 51.375 0 \nL 42.1875 0 \nQ 40.828125 2.734375 40.4375 6.390625 \nz\nM 39.703125 26.03125 \nQ 34.90625 24.078125 25.34375 22.703125 \nQ 19.921875 21.921875 17.671875 20.9375 \nQ 15.4375 19.96875 14.203125 18.09375 \nQ 12.984375 16.21875 12.984375 13.921875 \nQ 12.984375 10.40625 15.640625 8.0625 \nQ 18.3125 5.71875 23.4375 5.71875 \nQ 28.515625 5.71875 32.46875 7.9375 \nQ 36.421875 10.15625 38.28125 14.015625 \nQ 39.703125 17 39.703125 22.796875 \nz\n\" id=\"ArialMT-97\"/>\n       <path d=\"M 6.390625 0 \nL 6.390625 71.578125 \nL 15.1875 71.578125 \nL 15.1875 0 \nz\n\" id=\"ArialMT-108\"/>\n       <path d=\"M 3.078125 15.484375 \nL 11.765625 16.84375 \nQ 12.5 11.625 15.84375 8.84375 \nQ 19.1875 6.0625 25.203125 6.0625 \nQ 31.25 6.0625 34.171875 8.515625 \nQ 37.109375 10.984375 37.109375 14.3125 \nQ 37.109375 17.28125 34.515625 19 \nQ 32.71875 20.171875 25.53125 21.96875 \nQ 15.875 24.421875 12.140625 26.203125 \nQ 8.40625 27.984375 6.46875 31.125 \nQ 4.546875 34.28125 4.546875 38.09375 \nQ 4.546875 41.546875 6.125 44.5 \nQ 7.71875 47.46875 10.453125 49.421875 \nQ 12.5 50.921875 16.03125 51.96875 \nQ 19.578125 53.03125 23.640625 53.03125 \nQ 29.734375 53.03125 34.34375 51.265625 \nQ 38.96875 49.515625 41.15625 46.5 \nQ 43.359375 43.5 44.1875 38.484375 \nL 35.59375 37.3125 \nQ 35.015625 41.3125 32.203125 43.546875 \nQ 29.390625 45.796875 24.265625 45.796875 \nQ 18.21875 45.796875 15.625 43.796875 \nQ 13.03125 41.796875 13.03125 39.109375 \nQ 13.03125 37.40625 14.109375 36.03125 \nQ 15.1875 34.625 17.484375 33.6875 \nQ 18.796875 33.203125 25.25 31.453125 \nQ 34.578125 28.953125 38.25 27.359375 \nQ 41.9375 25.78125 44.03125 22.75 \nQ 46.140625 19.734375 46.140625 15.234375 \nQ 46.140625 10.84375 43.578125 6.953125 \nQ 41.015625 3.078125 36.171875 0.953125 \nQ 31.34375 -1.171875 25.25 -1.171875 \nQ 15.140625 -1.171875 9.84375 3.03125 \nQ 4.546875 7.234375 3.078125 15.484375 \nz\n\" id=\"ArialMT-115\"/>\n       <path d=\"M 42.09375 16.703125 \nL 51.171875 15.578125 \nQ 49.03125 7.625 43.21875 3.21875 \nQ 37.40625 -1.171875 28.375 -1.171875 \nQ 17 -1.171875 10.328125 5.828125 \nQ 3.65625 12.84375 3.65625 25.484375 \nQ 3.65625 38.578125 10.390625 45.796875 \nQ 17.140625 53.03125 27.875 53.03125 \nQ 38.28125 53.03125 44.875 45.953125 \nQ 51.46875 38.875 51.46875 26.03125 \nQ 51.46875 25.25 51.421875 23.6875 \nL 12.75 23.6875 \nQ 13.234375 15.140625 17.578125 10.59375 \nQ 21.921875 6.0625 28.421875 6.0625 \nQ 33.25 6.0625 36.671875 8.59375 \nQ 40.09375 11.140625 42.09375 16.703125 \nz\nM 13.234375 30.90625 \nL 42.1875 30.90625 \nQ 41.609375 37.453125 38.875 40.71875 \nQ 34.671875 45.796875 27.984375 45.796875 \nQ 21.921875 45.796875 17.796875 41.75 \nQ 13.671875 37.703125 13.234375 30.90625 \nz\n\" id=\"ArialMT-101\"/>\n      </defs>\n      <g style=\"fill:#262626;\" transform=\"translate(93.931094 238.797812)scale(0.1 -0.1)\">\n       <use xlink:href=\"#ArialMT-70\"/>\n       <use x=\"61.083984\" xlink:href=\"#ArialMT-97\"/>\n       <use x=\"116.699219\" xlink:href=\"#ArialMT-108\"/>\n       <use x=\"138.916016\" xlink:href=\"#ArialMT-115\"/>\n       <use x=\"188.916016\" xlink:href=\"#ArialMT-101\"/>\n      </g>\n     </g>\n    </g>\n    <g id=\"xtick_2\">\n     <g id=\"line2d_2\">\n      <path clip-path=\"url(#pe00722599f)\" d=\"M 214.876875 224.64 \nL 214.876875 7.2 \n\" style=\"fill:none;stroke:#ffffff;stroke-linecap:round;stroke-width:0.8;\"/>\n     </g>\n     <g id=\"text_2\">\n      <!-- True -->\n      <defs>\n       <path d=\"M 25.921875 0 \nL 25.921875 63.140625 \nL 2.34375 63.140625 \nL 2.34375 71.578125 \nL 59.078125 71.578125 \nL 59.078125 63.140625 \nL 35.40625 63.140625 \nL 35.40625 0 \nz\n\" id=\"ArialMT-84\"/>\n       <path d=\"M 6.5 0 \nL 6.5 51.859375 \nL 14.40625 51.859375 \nL 14.40625 44 \nQ 17.4375 49.515625 20 51.265625 \nQ 22.5625 53.03125 25.640625 53.03125 \nQ 30.078125 53.03125 34.671875 50.203125 \nL 31.640625 42.046875 \nQ 28.421875 43.953125 25.203125 43.953125 \nQ 22.3125 43.953125 20.015625 42.21875 \nQ 17.71875 40.484375 16.75 37.40625 \nQ 15.28125 32.71875 15.28125 27.15625 \nL 15.28125 0 \nz\n\" id=\"ArialMT-114\"/>\n       <path d=\"M 40.578125 0 \nL 40.578125 7.625 \nQ 34.515625 -1.171875 24.125 -1.171875 \nQ 19.53125 -1.171875 15.546875 0.578125 \nQ 11.578125 2.34375 9.640625 5 \nQ 7.71875 7.671875 6.9375 11.53125 \nQ 6.390625 14.109375 6.390625 19.734375 \nL 6.390625 51.859375 \nL 15.1875 51.859375 \nL 15.1875 23.09375 \nQ 15.1875 16.21875 15.71875 13.8125 \nQ 16.546875 10.359375 19.234375 8.375 \nQ 21.921875 6.390625 25.875 6.390625 \nQ 29.828125 6.390625 33.296875 8.421875 \nQ 36.765625 10.453125 38.203125 13.9375 \nQ 39.65625 17.4375 39.65625 24.078125 \nL 39.65625 51.859375 \nL 48.4375 51.859375 \nL 48.4375 0 \nz\n\" id=\"ArialMT-117\"/>\n      </defs>\n      <g style=\"fill:#262626;\" transform=\"translate(204.599531 238.797812)scale(0.1 -0.1)\">\n       <use xlink:href=\"#ArialMT-84\"/>\n       <use x=\"61.037109\" xlink:href=\"#ArialMT-114\"/>\n       <use x=\"94.337891\" xlink:href=\"#ArialMT-117\"/>\n       <use x=\"149.953125\" xlink:href=\"#ArialMT-101\"/>\n      </g>\n     </g>\n    </g>\n    <g id=\"text_3\">\n     <!-- Predicted label -->\n     <defs>\n      <path d=\"M 7.71875 0 \nL 7.71875 71.578125 \nL 34.71875 71.578125 \nQ 41.84375 71.578125 45.609375 70.90625 \nQ 50.875 70.015625 54.4375 67.546875 \nQ 58.015625 65.09375 60.1875 60.640625 \nQ 62.359375 56.203125 62.359375 50.875 \nQ 62.359375 41.75 56.546875 35.421875 \nQ 50.734375 29.109375 35.546875 29.109375 \nL 17.1875 29.109375 \nL 17.1875 0 \nz\nM 17.1875 37.546875 \nL 35.6875 37.546875 \nQ 44.875 37.546875 48.734375 40.96875 \nQ 52.59375 44.390625 52.59375 50.59375 \nQ 52.59375 55.078125 50.3125 58.265625 \nQ 48.046875 61.46875 44.34375 62.5 \nQ 41.9375 63.140625 35.5 63.140625 \nL 17.1875 63.140625 \nz\n\" id=\"ArialMT-80\"/>\n      <path d=\"M 40.234375 0 \nL 40.234375 6.546875 \nQ 35.296875 -1.171875 25.734375 -1.171875 \nQ 19.53125 -1.171875 14.328125 2.25 \nQ 9.125 5.671875 6.265625 11.796875 \nQ 3.421875 17.921875 3.421875 25.875 \nQ 3.421875 33.640625 6 39.96875 \nQ 8.59375 46.296875 13.765625 49.65625 \nQ 18.953125 53.03125 25.34375 53.03125 \nQ 30.03125 53.03125 33.6875 51.046875 \nQ 37.359375 49.078125 39.65625 45.90625 \nL 39.65625 71.578125 \nL 48.390625 71.578125 \nL 48.390625 0 \nz\nM 12.453125 25.875 \nQ 12.453125 15.921875 16.640625 10.984375 \nQ 20.84375 6.0625 26.5625 6.0625 \nQ 32.328125 6.0625 36.34375 10.765625 \nQ 40.375 15.484375 40.375 25.140625 \nQ 40.375 35.796875 36.265625 40.765625 \nQ 32.171875 45.75 26.171875 45.75 \nQ 20.3125 45.75 16.375 40.96875 \nQ 12.453125 36.1875 12.453125 25.875 \nz\n\" id=\"ArialMT-100\"/>\n      <path d=\"M 6.640625 61.46875 \nL 6.640625 71.578125 \nL 15.4375 71.578125 \nL 15.4375 61.46875 \nz\nM 6.640625 0 \nL 6.640625 51.859375 \nL 15.4375 51.859375 \nL 15.4375 0 \nz\n\" id=\"ArialMT-105\"/>\n      <path d=\"M 40.4375 19 \nL 49.078125 17.875 \nQ 47.65625 8.9375 41.8125 3.875 \nQ 35.984375 -1.171875 27.484375 -1.171875 \nQ 16.84375 -1.171875 10.375 5.78125 \nQ 3.90625 12.75 3.90625 25.734375 \nQ 3.90625 34.125 6.6875 40.421875 \nQ 9.46875 46.734375 15.15625 49.875 \nQ 20.84375 53.03125 27.546875 53.03125 \nQ 35.984375 53.03125 41.359375 48.75 \nQ 46.734375 44.484375 48.25 36.625 \nL 39.703125 35.296875 \nQ 38.484375 40.53125 35.375 43.15625 \nQ 32.28125 45.796875 27.875 45.796875 \nQ 21.234375 45.796875 17.078125 41.03125 \nQ 12.9375 36.28125 12.9375 25.984375 \nQ 12.9375 15.53125 16.9375 10.796875 \nQ 20.953125 6.0625 27.390625 6.0625 \nQ 32.5625 6.0625 36.03125 9.234375 \nQ 39.5 12.40625 40.4375 19 \nz\n\" id=\"ArialMT-99\"/>\n      <path d=\"M 25.78125 7.859375 \nL 27.046875 0.09375 \nQ 23.34375 -0.6875 20.40625 -0.6875 \nQ 15.625 -0.6875 12.984375 0.828125 \nQ 10.359375 2.34375 9.28125 4.8125 \nQ 8.203125 7.28125 8.203125 15.1875 \nL 8.203125 45.015625 \nL 1.765625 45.015625 \nL 1.765625 51.859375 \nL 8.203125 51.859375 \nL 8.203125 64.703125 \nL 16.9375 69.96875 \nL 16.9375 51.859375 \nL 25.78125 51.859375 \nL 25.78125 45.015625 \nL 16.9375 45.015625 \nL 16.9375 14.703125 \nQ 16.9375 10.9375 17.40625 9.859375 \nQ 17.875 8.796875 18.921875 8.15625 \nQ 19.96875 7.515625 21.921875 7.515625 \nQ 23.390625 7.515625 25.78125 7.859375 \nz\n\" id=\"ArialMT-116\"/>\n      <path id=\"ArialMT-32\"/>\n      <path d=\"M 14.703125 0 \nL 6.546875 0 \nL 6.546875 71.578125 \nL 15.328125 71.578125 \nL 15.328125 46.046875 \nQ 20.90625 53.03125 29.546875 53.03125 \nQ 34.328125 53.03125 38.59375 51.09375 \nQ 42.875 49.171875 45.625 45.671875 \nQ 48.390625 42.1875 49.953125 37.25 \nQ 51.515625 32.328125 51.515625 26.703125 \nQ 51.515625 13.375 44.921875 6.09375 \nQ 38.328125 -1.171875 29.109375 -1.171875 \nQ 19.921875 -1.171875 14.703125 6.5 \nz\nM 14.59375 26.3125 \nQ 14.59375 17 17.140625 12.84375 \nQ 21.296875 6.0625 28.375 6.0625 \nQ 34.125 6.0625 38.328125 11.0625 \nQ 42.53125 16.0625 42.53125 25.984375 \nQ 42.53125 36.140625 38.5 40.96875 \nQ 34.46875 45.796875 28.765625 45.796875 \nQ 23 45.796875 18.796875 40.796875 \nQ 14.59375 35.796875 14.59375 26.3125 \nz\n\" id=\"ArialMT-98\"/>\n     </defs>\n     <g style=\"fill:#262626;\" transform=\"translate(127.442656 251.943125)scale(0.1 -0.1)\">\n      <use xlink:href=\"#ArialMT-80\"/>\n      <use x=\"66.699219\" xlink:href=\"#ArialMT-114\"/>\n      <use x=\"100\" xlink:href=\"#ArialMT-101\"/>\n      <use x=\"155.615234\" xlink:href=\"#ArialMT-100\"/>\n      <use x=\"211.230469\" xlink:href=\"#ArialMT-105\"/>\n      <use x=\"233.447266\" xlink:href=\"#ArialMT-99\"/>\n      <use x=\"283.447266\" xlink:href=\"#ArialMT-116\"/>\n      <use x=\"311.230469\" xlink:href=\"#ArialMT-101\"/>\n      <use x=\"366.845703\" xlink:href=\"#ArialMT-100\"/>\n      <use x=\"422.460938\" xlink:href=\"#ArialMT-32\"/>\n      <use x=\"450.244141\" xlink:href=\"#ArialMT-108\"/>\n      <use x=\"472.460938\" xlink:href=\"#ArialMT-97\"/>\n      <use x=\"528.076172\" xlink:href=\"#ArialMT-98\"/>\n      <use x=\"583.691406\" xlink:href=\"#ArialMT-101\"/>\n      <use x=\"639.306641\" xlink:href=\"#ArialMT-108\"/>\n     </g>\n    </g>\n   </g>\n   <g id=\"matplotlib.axis_2\">\n    <g id=\"ytick_1\">\n     <g id=\"line2d_3\">\n      <path clip-path=\"url(#pe00722599f)\" d=\"M 51.796875 61.56 \nL 269.236875 61.56 \n\" style=\"fill:none;stroke:#ffffff;stroke-linecap:round;stroke-width:0.8;\"/>\n     </g>\n     <g id=\"text_4\">\n      <!-- False -->\n      <g style=\"fill:#262626;\" transform=\"translate(20.345312 65.138906)scale(0.1 -0.1)\">\n       <use xlink:href=\"#ArialMT-70\"/>\n       <use x=\"61.083984\" xlink:href=\"#ArialMT-97\"/>\n       <use x=\"116.699219\" xlink:href=\"#ArialMT-108\"/>\n       <use x=\"138.916016\" xlink:href=\"#ArialMT-115\"/>\n       <use x=\"188.916016\" xlink:href=\"#ArialMT-101\"/>\n      </g>\n     </g>\n    </g>\n    <g id=\"ytick_2\">\n     <g id=\"line2d_4\">\n      <path clip-path=\"url(#pe00722599f)\" d=\"M 51.796875 170.28 \nL 269.236875 170.28 \n\" style=\"fill:none;stroke:#ffffff;stroke-linecap:round;stroke-width:0.8;\"/>\n     </g>\n     <g id=\"text_5\">\n      <!-- True -->\n      <g style=\"fill:#262626;\" transform=\"translate(24.242188 173.858906)scale(0.1 -0.1)\">\n       <use xlink:href=\"#ArialMT-84\"/>\n       <use x=\"61.037109\" xlink:href=\"#ArialMT-114\"/>\n       <use x=\"94.337891\" xlink:href=\"#ArialMT-117\"/>\n       <use x=\"149.953125\" xlink:href=\"#ArialMT-101\"/>\n      </g>\n     </g>\n    </g>\n    <g id=\"text_6\">\n     <!-- True label -->\n     <g style=\"fill:#262626;\" transform=\"translate(14.357812 138.149687)rotate(-90)scale(0.1 -0.1)\">\n      <use xlink:href=\"#ArialMT-84\"/>\n      <use x=\"61.037109\" xlink:href=\"#ArialMT-114\"/>\n      <use x=\"94.337891\" xlink:href=\"#ArialMT-117\"/>\n      <use x=\"149.953125\" xlink:href=\"#ArialMT-101\"/>\n      <use x=\"205.568359\" xlink:href=\"#ArialMT-32\"/>\n      <use x=\"233.351562\" xlink:href=\"#ArialMT-108\"/>\n      <use x=\"255.568359\" xlink:href=\"#ArialMT-97\"/>\n      <use x=\"311.183594\" xlink:href=\"#ArialMT-98\"/>\n      <use x=\"366.798828\" xlink:href=\"#ArialMT-101\"/>\n      <use x=\"422.414062\" xlink:href=\"#ArialMT-108\"/>\n     </g>\n    </g>\n   </g>\n   <g id=\"patch_3\">\n    <path d=\"M 51.796875 224.64 \nL 51.796875 7.2 \n\" style=\"fill:none;stroke:#ffffff;stroke-linecap:square;stroke-linejoin:miter;stroke-width:0.8;\"/>\n   </g>\n   <g id=\"patch_4\">\n    <path d=\"M 269.236875 224.64 \nL 269.236875 7.2 \n\" style=\"fill:none;stroke:#ffffff;stroke-linecap:square;stroke-linejoin:miter;stroke-width:0.8;\"/>\n   </g>\n   <g id=\"patch_5\">\n    <path d=\"M 51.796875 224.64 \nL 269.236875 224.64 \n\" style=\"fill:none;stroke:#ffffff;stroke-linecap:square;stroke-linejoin:miter;stroke-width:0.8;\"/>\n   </g>\n   <g id=\"patch_6\">\n    <path d=\"M 51.796875 7.2 \nL 269.236875 7.2 \n\" style=\"fill:none;stroke:#ffffff;stroke-linecap:square;stroke-linejoin:miter;stroke-width:0.8;\"/>\n   </g>\n   <g id=\"text_7\">\n    <!-- 53527 -->\n    <defs>\n     <path d=\"M 4.15625 18.75 \nL 13.375 19.53125 \nQ 14.40625 12.796875 18.140625 9.390625 \nQ 21.875 6 27.15625 6 \nQ 33.5 6 37.890625 10.78125 \nQ 42.28125 15.578125 42.28125 23.484375 \nQ 42.28125 31 38.0625 35.34375 \nQ 33.84375 39.703125 27 39.703125 \nQ 22.75 39.703125 19.328125 37.765625 \nQ 15.921875 35.84375 13.96875 32.765625 \nL 5.71875 33.84375 \nL 12.640625 70.609375 \nL 48.25 70.609375 \nL 48.25 62.203125 \nL 19.671875 62.203125 \nL 15.828125 42.96875 \nQ 22.265625 47.46875 29.34375 47.46875 \nQ 38.71875 47.46875 45.15625 40.96875 \nQ 51.609375 34.46875 51.609375 24.265625 \nQ 51.609375 14.546875 45.953125 7.46875 \nQ 39.0625 -1.21875 27.15625 -1.21875 \nQ 17.390625 -1.21875 11.203125 4.25 \nQ 5.03125 9.71875 4.15625 18.75 \nz\n\" id=\"ArialMT-53\"/>\n     <path d=\"M 4.203125 18.890625 \nL 12.984375 20.0625 \nQ 14.5 12.59375 18.140625 9.296875 \nQ 21.78125 6 27 6 \nQ 33.203125 6 37.46875 10.296875 \nQ 41.75 14.59375 41.75 20.953125 \nQ 41.75 27 37.796875 30.921875 \nQ 33.84375 34.859375 27.734375 34.859375 \nQ 25.25 34.859375 21.53125 33.890625 \nL 22.515625 41.609375 \nQ 23.390625 41.5 23.921875 41.5 \nQ 29.546875 41.5 34.03125 44.421875 \nQ 38.53125 47.359375 38.53125 53.46875 \nQ 38.53125 58.296875 35.25 61.46875 \nQ 31.984375 64.65625 26.8125 64.65625 \nQ 21.6875 64.65625 18.265625 61.421875 \nQ 14.84375 58.203125 13.875 51.765625 \nL 5.078125 53.328125 \nQ 6.6875 62.15625 12.390625 67.015625 \nQ 18.109375 71.875 26.609375 71.875 \nQ 32.46875 71.875 37.390625 69.359375 \nQ 42.328125 66.84375 44.9375 62.5 \nQ 47.5625 58.15625 47.5625 53.265625 \nQ 47.5625 48.640625 45.0625 44.828125 \nQ 42.578125 41.015625 37.703125 38.765625 \nQ 44.046875 37.3125 47.5625 32.6875 \nQ 51.078125 28.078125 51.078125 21.140625 \nQ 51.078125 11.765625 44.234375 5.25 \nQ 37.40625 -1.265625 26.953125 -1.265625 \nQ 17.53125 -1.265625 11.296875 4.34375 \nQ 5.078125 9.96875 4.203125 18.890625 \nz\n\" id=\"ArialMT-51\"/>\n     <path d=\"M 50.34375 8.453125 \nL 50.34375 0 \nL 3.03125 0 \nQ 2.9375 3.171875 4.046875 6.109375 \nQ 5.859375 10.9375 9.828125 15.625 \nQ 13.8125 20.3125 21.34375 26.46875 \nQ 33.015625 36.03125 37.109375 41.625 \nQ 41.21875 47.21875 41.21875 52.203125 \nQ 41.21875 57.421875 37.46875 61 \nQ 33.734375 64.59375 27.734375 64.59375 \nQ 21.390625 64.59375 17.578125 60.78125 \nQ 13.765625 56.984375 13.71875 50.25 \nL 4.6875 51.171875 \nQ 5.609375 61.28125 11.65625 66.578125 \nQ 17.71875 71.875 27.9375 71.875 \nQ 38.234375 71.875 44.234375 66.15625 \nQ 50.25 60.453125 50.25 52 \nQ 50.25 47.703125 48.484375 43.546875 \nQ 46.734375 39.40625 42.65625 34.8125 \nQ 38.578125 30.21875 29.109375 22.21875 \nQ 21.1875 15.578125 18.9375 13.203125 \nQ 16.703125 10.84375 15.234375 8.453125 \nz\n\" id=\"ArialMT-50\"/>\n     <path d=\"M 4.734375 62.203125 \nL 4.734375 70.65625 \nL 51.078125 70.65625 \nL 51.078125 63.8125 \nQ 44.234375 56.546875 37.515625 44.484375 \nQ 30.8125 32.421875 27.15625 19.671875 \nQ 24.515625 10.6875 23.78125 0 \nL 14.75 0 \nQ 14.890625 8.453125 18.0625 20.40625 \nQ 21.234375 32.375 27.171875 43.484375 \nQ 33.109375 54.59375 39.796875 62.203125 \nz\n\" id=\"ArialMT-55\"/>\n    </defs>\n    <g style=\"fill:#440154;\" transform=\"translate(92.254531 64.145156)scale(0.1 -0.1)\">\n     <use xlink:href=\"#ArialMT-53\"/>\n     <use x=\"55.615234\" xlink:href=\"#ArialMT-51\"/>\n     <use x=\"111.230469\" xlink:href=\"#ArialMT-53\"/>\n     <use x=\"166.845703\" xlink:href=\"#ArialMT-50\"/>\n     <use x=\"222.460938\" xlink:href=\"#ArialMT-55\"/>\n    </g>\n   </g>\n   <g id=\"text_8\">\n    <!-- 63 -->\n    <defs>\n     <path d=\"M 49.75 54.046875 \nL 41.015625 53.375 \nQ 39.84375 58.546875 37.703125 60.890625 \nQ 34.125 64.65625 28.90625 64.65625 \nQ 24.703125 64.65625 21.53125 62.3125 \nQ 17.390625 59.28125 14.984375 53.46875 \nQ 12.59375 47.65625 12.5 36.921875 \nQ 15.671875 41.75 20.265625 44.09375 \nQ 24.859375 46.4375 29.890625 46.4375 \nQ 38.671875 46.4375 44.84375 39.96875 \nQ 51.03125 33.5 51.03125 23.25 \nQ 51.03125 16.5 48.125 10.71875 \nQ 45.21875 4.9375 40.140625 1.859375 \nQ 35.0625 -1.21875 28.609375 -1.21875 \nQ 17.625 -1.21875 10.6875 6.859375 \nQ 3.765625 14.9375 3.765625 33.5 \nQ 3.765625 54.25 11.421875 63.671875 \nQ 18.109375 71.875 29.4375 71.875 \nQ 37.890625 71.875 43.28125 67.140625 \nQ 48.6875 62.40625 49.75 54.046875 \nz\nM 13.875 23.1875 \nQ 13.875 18.65625 15.796875 14.5 \nQ 17.71875 10.359375 21.1875 8.171875 \nQ 24.65625 6 28.46875 6 \nQ 34.03125 6 38.03125 10.484375 \nQ 42.046875 14.984375 42.046875 22.703125 \nQ 42.046875 30.125 38.078125 34.390625 \nQ 34.125 38.671875 28.125 38.671875 \nQ 22.171875 38.671875 18.015625 34.390625 \nQ 13.875 30.125 13.875 23.1875 \nz\n\" id=\"ArialMT-54\"/>\n    </defs>\n    <g style=\"fill:#fde725;\" transform=\"translate(209.315937 64.145156)scale(0.1 -0.1)\">\n     <use xlink:href=\"#ArialMT-54\"/>\n     <use x=\"55.615234\" xlink:href=\"#ArialMT-51\"/>\n    </g>\n   </g>\n   <g id=\"text_9\">\n    <!-- 1827 -->\n    <defs>\n     <path d=\"M 37.25 0 \nL 28.46875 0 \nL 28.46875 56 \nQ 25.296875 52.984375 20.140625 49.953125 \nQ 14.984375 46.921875 10.890625 45.40625 \nL 10.890625 53.90625 \nQ 18.265625 57.375 23.78125 62.296875 \nQ 29.296875 67.234375 31.59375 71.875 \nL 37.25 71.875 \nz\n\" id=\"ArialMT-49\"/>\n     <path d=\"M 17.671875 38.8125 \nQ 12.203125 40.828125 9.5625 44.53125 \nQ 6.9375 48.25 6.9375 53.421875 \nQ 6.9375 61.234375 12.546875 66.546875 \nQ 18.171875 71.875 27.484375 71.875 \nQ 36.859375 71.875 42.578125 66.421875 \nQ 48.296875 60.984375 48.296875 53.171875 \nQ 48.296875 48.1875 45.671875 44.5 \nQ 43.0625 40.828125 37.75 38.8125 \nQ 44.34375 36.671875 47.78125 31.875 \nQ 51.21875 27.09375 51.21875 20.453125 \nQ 51.21875 11.28125 44.71875 5.03125 \nQ 38.234375 -1.21875 27.640625 -1.21875 \nQ 17.046875 -1.21875 10.546875 5.046875 \nQ 4.046875 11.328125 4.046875 20.703125 \nQ 4.046875 27.6875 7.59375 32.390625 \nQ 11.140625 37.109375 17.671875 38.8125 \nz\nM 15.921875 53.71875 \nQ 15.921875 48.640625 19.1875 45.40625 \nQ 22.46875 42.1875 27.6875 42.1875 \nQ 32.765625 42.1875 36.015625 45.375 \nQ 39.265625 48.578125 39.265625 53.21875 \nQ 39.265625 58.0625 35.90625 61.359375 \nQ 32.5625 64.65625 27.59375 64.65625 \nQ 22.5625 64.65625 19.234375 61.421875 \nQ 15.921875 58.203125 15.921875 53.71875 \nz\nM 13.09375 20.65625 \nQ 13.09375 16.890625 14.875 13.375 \nQ 16.65625 9.859375 20.171875 7.921875 \nQ 23.6875 6 27.734375 6 \nQ 34.03125 6 38.125 10.046875 \nQ 42.234375 14.109375 42.234375 20.359375 \nQ 42.234375 26.703125 38.015625 30.859375 \nQ 33.796875 35.015625 27.4375 35.015625 \nQ 21.234375 35.015625 17.15625 30.90625 \nQ 13.09375 26.8125 13.09375 20.65625 \nz\n\" id=\"ArialMT-56\"/>\n    </defs>\n    <g style=\"fill:#fde725;\" transform=\"translate(95.035 172.865156)scale(0.1 -0.1)\">\n     <use xlink:href=\"#ArialMT-49\"/>\n     <use x=\"55.615234\" xlink:href=\"#ArialMT-56\"/>\n     <use x=\"111.230469\" xlink:href=\"#ArialMT-50\"/>\n     <use x=\"166.845703\" xlink:href=\"#ArialMT-55\"/>\n    </g>\n   </g>\n   <g id=\"text_10\">\n    <!-- 45 -->\n    <defs>\n     <path d=\"M 32.328125 0 \nL 32.328125 17.140625 \nL 1.265625 17.140625 \nL 1.265625 25.203125 \nL 33.9375 71.578125 \nL 41.109375 71.578125 \nL 41.109375 25.203125 \nL 50.78125 25.203125 \nL 50.78125 17.140625 \nL 41.109375 17.140625 \nL 41.109375 0 \nz\nM 32.328125 25.203125 \nL 32.328125 57.46875 \nL 9.90625 25.203125 \nz\n\" id=\"ArialMT-52\"/>\n    </defs>\n    <g style=\"fill:#fde725;\" transform=\"translate(209.315937 172.865156)scale(0.1 -0.1)\">\n     <use xlink:href=\"#ArialMT-52\"/>\n     <use x=\"55.615234\" xlink:href=\"#ArialMT-53\"/>\n    </g>\n   </g>\n  </g>\n  <g id=\"axes_2\">\n   <g id=\"patch_7\">\n    <path clip-path=\"url(#pab8cd2e284)\" d=\"M 285.976875 224.64 \nL 285.976875 223.790625 \nL 285.976875 8.049375 \nL 285.976875 7.2 \nL 296.848875 7.2 \nL 296.848875 8.049375 \nL 296.848875 223.790625 \nL 296.848875 224.64 \nz\n\" style=\"fill:#eaeaf2;stroke:#eaeaf2;stroke-linejoin:miter;stroke-width:0.01;\"/>\n   </g>\n   <g id=\"matplotlib.axis_3\"/>\n   <g id=\"matplotlib.axis_4\">\n    <g id=\"ytick_3\">\n     <g id=\"line2d_5\">\n      <defs>\n       <path d=\"M 0 0 \nL 3.5 0 \n\" id=\"m6b4e05bb88\" style=\"stroke:#262626;stroke-width:0.8;\"/>\n      </defs>\n      <g>\n       <use style=\"fill:#262626;stroke:#262626;stroke-width:0.8;\" x=\"296.848875\" xlink:href=\"#m6b4e05bb88\" y=\"184.166285\"/>\n      </g>\n     </g>\n     <g id=\"text_11\">\n      <!-- 10000 -->\n      <defs>\n       <path d=\"M 4.15625 35.296875 \nQ 4.15625 48 6.765625 55.734375 \nQ 9.375 63.484375 14.515625 67.671875 \nQ 19.671875 71.875 27.484375 71.875 \nQ 33.25 71.875 37.59375 69.546875 \nQ 41.9375 67.234375 44.765625 62.859375 \nQ 47.609375 58.5 49.21875 52.21875 \nQ 50.828125 45.953125 50.828125 35.296875 \nQ 50.828125 22.703125 48.234375 14.96875 \nQ 45.65625 7.234375 40.5 3 \nQ 35.359375 -1.21875 27.484375 -1.21875 \nQ 17.140625 -1.21875 11.234375 6.203125 \nQ 4.15625 15.140625 4.15625 35.296875 \nz\nM 13.1875 35.296875 \nQ 13.1875 17.671875 17.3125 11.828125 \nQ 21.4375 6 27.484375 6 \nQ 33.546875 6 37.671875 11.859375 \nQ 41.796875 17.71875 41.796875 35.296875 \nQ 41.796875 52.984375 37.671875 58.78125 \nQ 33.546875 64.59375 27.390625 64.59375 \nQ 21.34375 64.59375 17.71875 59.46875 \nQ 13.1875 52.9375 13.1875 35.296875 \nz\n\" id=\"ArialMT-48\"/>\n      </defs>\n      <g style=\"fill:#262626;\" transform=\"translate(303.848875 187.745192)scale(0.1 -0.1)\">\n       <use xlink:href=\"#ArialMT-49\"/>\n       <use x=\"55.615234\" xlink:href=\"#ArialMT-48\"/>\n       <use x=\"111.230469\" xlink:href=\"#ArialMT-48\"/>\n       <use x=\"166.845703\" xlink:href=\"#ArialMT-48\"/>\n       <use x=\"222.460938\" xlink:href=\"#ArialMT-48\"/>\n      </g>\n     </g>\n    </g>\n    <g id=\"ytick_4\">\n     <g id=\"line2d_6\">\n      <g>\n       <use style=\"fill:#262626;stroke:#262626;stroke-width:0.8;\" x=\"296.848875\" xlink:href=\"#m6b4e05bb88\" y=\"143.509616\"/>\n      </g>\n     </g>\n     <g id=\"text_12\">\n      <!-- 20000 -->\n      <g style=\"fill:#262626;\" transform=\"translate(303.848875 147.088522)scale(0.1 -0.1)\">\n       <use xlink:href=\"#ArialMT-50\"/>\n       <use x=\"55.615234\" xlink:href=\"#ArialMT-48\"/>\n       <use x=\"111.230469\" xlink:href=\"#ArialMT-48\"/>\n       <use x=\"166.845703\" xlink:href=\"#ArialMT-48\"/>\n       <use x=\"222.460938\" xlink:href=\"#ArialMT-48\"/>\n      </g>\n     </g>\n    </g>\n    <g id=\"ytick_5\">\n     <g id=\"line2d_7\">\n      <g>\n       <use style=\"fill:#262626;stroke:#262626;stroke-width:0.8;\" x=\"296.848875\" xlink:href=\"#m6b4e05bb88\" y=\"102.852946\"/>\n      </g>\n     </g>\n     <g id=\"text_13\">\n      <!-- 30000 -->\n      <g style=\"fill:#262626;\" transform=\"translate(303.848875 106.431853)scale(0.1 -0.1)\">\n       <use xlink:href=\"#ArialMT-51\"/>\n       <use x=\"55.615234\" xlink:href=\"#ArialMT-48\"/>\n       <use x=\"111.230469\" xlink:href=\"#ArialMT-48\"/>\n       <use x=\"166.845703\" xlink:href=\"#ArialMT-48\"/>\n       <use x=\"222.460938\" xlink:href=\"#ArialMT-48\"/>\n      </g>\n     </g>\n    </g>\n    <g id=\"ytick_6\">\n     <g id=\"line2d_8\">\n      <g>\n       <use style=\"fill:#262626;stroke:#262626;stroke-width:0.8;\" x=\"296.848875\" xlink:href=\"#m6b4e05bb88\" y=\"62.196277\"/>\n      </g>\n     </g>\n     <g id=\"text_14\">\n      <!-- 40000 -->\n      <g style=\"fill:#262626;\" transform=\"translate(303.848875 65.775183)scale(0.1 -0.1)\">\n       <use xlink:href=\"#ArialMT-52\"/>\n       <use x=\"55.615234\" xlink:href=\"#ArialMT-48\"/>\n       <use x=\"111.230469\" xlink:href=\"#ArialMT-48\"/>\n       <use x=\"166.845703\" xlink:href=\"#ArialMT-48\"/>\n       <use x=\"222.460938\" xlink:href=\"#ArialMT-48\"/>\n      </g>\n     </g>\n    </g>\n    <g id=\"ytick_7\">\n     <g id=\"line2d_9\">\n      <g>\n       <use style=\"fill:#262626;stroke:#262626;stroke-width:0.8;\" x=\"296.848875\" xlink:href=\"#m6b4e05bb88\" y=\"21.539607\"/>\n      </g>\n     </g>\n     <g id=\"text_15\">\n      <!-- 50000 -->\n      <g style=\"fill:#262626;\" transform=\"translate(303.848875 25.118514)scale(0.1 -0.1)\">\n       <use xlink:href=\"#ArialMT-53\"/>\n       <use x=\"55.615234\" xlink:href=\"#ArialMT-48\"/>\n       <use x=\"111.230469\" xlink:href=\"#ArialMT-48\"/>\n       <use x=\"166.845703\" xlink:href=\"#ArialMT-48\"/>\n       <use x=\"222.460938\" xlink:href=\"#ArialMT-48\"/>\n      </g>\n     </g>\n    </g>\n   </g>\n   <image height=\"218\" id=\"image109c70eccf\" transform=\"scale(1 -1)translate(0 -218)\" width=\"11\" x=\"286\" xlink:href=\"data:image/png;base64,\niVBORw0KGgoAAAANSUhEUgAAAAsAAADaCAYAAABwzrisAAAABHNCSVQICAgIfAhkiAAAAWBJREFUaIHt2UFuwzAQQ1FpJN+sR+j9T9LU3XaptyAwDpI1QXxyRnLizK/5fY/Dzx6zTrVjz5ogXutcTBhDMMYU5hIMCyjM1HOP6oJt5MSfNv6LpY2bTsq5tk0bt427B0asZ8SgRTrWMnPMme4NCWg9S8BkG+JMu2HMIG7SRhAjV935k+2hAUls11cKA51z93NK/Pbj7tLGuZYfbeLcpI23Hzc5txg3QDx0N3LMY56f74cGJLG00eQMCnOwukphNGljxgKaeMQCSnW5NuCrKI6bAlYwoDCfG6uziJe0kcOg3ahcG7RIuRWNOe/5G3Im5iZiaqMJc8ljwtqoVweMkqHQgd1TAtK9YW2kti7Xxho5ZnGWnsn5st2QFY3tBg2FAjYZSklAWv5r/oBzDAMDyrhHaty2z7GAhGHLH3u0kTNiHGvHvuzAgvOC30tb3u7tJX9kXPDmcJcwE0YFMcj5XPwHMUaCbLiy7EMAAAAASUVORK5CYII=\" y=\"-7\"/>\n   <g id=\"patch_8\">\n    <path d=\"M 285.976875 224.64 \nL 285.976875 223.790625 \nL 285.976875 8.049375 \nL 285.976875 7.2 \nL 296.848875 7.2 \nL 296.848875 8.049375 \nL 296.848875 223.790625 \nL 296.848875 224.64 \nz\n\" style=\"fill:none;stroke:#ffffff;stroke-linejoin:miter;stroke-width:0.8;\"/>\n   </g>\n  </g>\n </g>\n <defs>\n  <clipPath id=\"pe00722599f\">\n   <rect height=\"217.44\" width=\"217.44\" x=\"51.796875\" y=\"7.2\"/>\n  </clipPath>\n  <clipPath id=\"pab8cd2e284\">\n   <rect height=\"217.44\" width=\"10.872\" x=\"285.976875\" y=\"7.2\"/>\n  </clipPath>\n </defs>\n</svg>\n",
      "image/png": "[encoded data removed]"
     },
     "metadata": {}
    }
   ],
   "source": [
    "# Build the model\n",
    "\n",
    "from sklearn.model_selection import train_test_split\n",
    "from sklearn.pipeline import Pipeline\n",
    "from sklearn.preprocessing import OneHotEncoder, StandardScaler\n",
    "from sklearn.compose import ColumnTransformer\n",
    "from sklearn.metrics import classification_report, plot_confusion_matrix\n",
    "from sklearn.linear_model import LogisticRegression\n",
    "\n",
    "X_train, X_test, y_train, y_test = train_test_split(\n",
    "    covid19_death_test[feats[:-2]], \n",
    "    covid19_death_test[feats[-1]],\n",
    "    test_size=0.2,\n",
    "    random_state=42)\n",
    "\n",
    "num_transformer = Pipeline([\n",
    "    (\"scaler\", StandardScaler())\n",
    "])\n",
    "\n",
    "cat_transfomer = Pipeline([\n",
    "    (\"onehot\", OneHotEncoder(handle_unknown=\"ignore\"))\n",
    "])\n",
    "\n",
    "preprocessor = ColumnTransformer([\n",
    "    (\"num\", num_transformer, [\"Altersgruppe\"]),\n",
    "    (\"cat\", cat_transfomer, [\"Bundesland\", \"Landkreis\", \"Geschlecht\"])\n",
    "])\n",
    "\n",
    "model = Pipeline([\n",
    "    (\"pre\", preprocessor),\n",
    "    (\"clf\", LogisticRegression())\n",
    "])\n",
    "\n",
    "# train model\n",
    "model.fit(X_train, y_train)\n",
    "\n",
    "y_pred = model.predict(X_test)\n",
    "\n",
    "print(classification_report(y_test, y_pred))\n",
    "plot_confusion_matrix(model, X_test, y_test)"
   ]
  }
 ]
}