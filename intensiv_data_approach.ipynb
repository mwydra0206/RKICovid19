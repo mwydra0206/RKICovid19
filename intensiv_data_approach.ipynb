{
 "metadata": {
  "language_info": {
   "codemirror_mode": {
    "name": "ipython",
    "version": 3
   },
   "file_extension": ".py",
   "mimetype": "text/x-python",
   "name": "python",
   "nbconvert_exporter": "python",
   "pygments_lexer": "ipython3",
   "version": "3.8.5-final"
  },
  "orig_nbformat": 2,
  "kernelspec": {
   "name": "python3",
   "display_name": "Python 3.8.5 32-bit",
   "metadata": {
    "interpreter": {
     "hash": "1e616e3a282a20e8d0e891bacd0607d7867cc0ca3e39cab308151054a4130fa4"
    }
   }
  }
 },
 "nbformat": 4,
 "nbformat_minor": 2,
 "cells": [
  {
   "cell_type": "code",
   "execution_count": 4,
   "metadata": {},
   "outputs": [
    {
     "output_type": "execute_result",
     "data": {
      "text/plain": [
       "   IdBundesland          Bundesland     Landkreis Altersgruppe Geschlecht  \\\n",
       "0             1  Schleswig-Holstein  SK Flensburg      A00-A04          M   \n",
       "1             1  Schleswig-Holstein  SK Flensburg      A00-A04          W   \n",
       "2             1  Schleswig-Holstein  SK Flensburg      A00-A04          W   \n",
       "3             1  Schleswig-Holstein  SK Flensburg      A05-A14          M   \n",
       "4             1  Schleswig-Holstein  SK Flensburg      A05-A14          M   \n",
       "\n",
       "   AnzahlFall  AnzahlTodesfall Meldedatum  IdLandkreis             Datenstand  \\\n",
       "0           1                0 2020-09-30         1001  19.10.2020, 00:00 Uhr   \n",
       "1           1                0 2020-08-24         1001  19.10.2020, 00:00 Uhr   \n",
       "2           1                0 2020-09-26         1001  19.10.2020, 00:00 Uhr   \n",
       "3           1                0 2020-09-25         1001  19.10.2020, 00:00 Uhr   \n",
       "4           1                0 2020-09-26         1001  19.10.2020, 00:00 Uhr   \n",
       "\n",
       "   ...  NeuerTodesfall   Refdatum NeuGenesen  AnzahlGenesen  \\\n",
       "0  ...              -9 2020-09-30          0              1   \n",
       "1  ...              -9 2020-08-24          0              1   \n",
       "2  ...              -9 2020-09-26          0              1   \n",
       "3  ...              -9 2020-09-21          0              1   \n",
       "4  ...              -9 2020-09-21          0              1   \n",
       "\n",
       "   IstErkrankungsbeginn      Altersgruppe2 BelegteBetten  FreieBetten  \\\n",
       "0                     0  Nicht übermittelt         636.0        412.0   \n",
       "1                     0  Nicht übermittelt         588.0        461.0   \n",
       "2                     0  Nicht übermittelt         627.0        417.0   \n",
       "3                     1  Nicht übermittelt         626.0        418.0   \n",
       "4                     1  Nicht übermittelt         627.0        417.0   \n",
       "\n",
       "   Notfallreserve  COVID-19-Faelle  \n",
       "0           286.0              2.0  \n",
       "1           286.0              2.0  \n",
       "2           287.0              5.0  \n",
       "3           288.0              4.0  \n",
       "4           287.0              5.0  \n",
       "\n",
       "[5 rows x 21 columns]"
      ],
      "text/html": "<div>\n<style scoped>\n    .dataframe tbody tr th:only-of-type {\n        vertical-align: middle;\n    }\n\n    .dataframe tbody tr th {\n        vertical-align: top;\n    }\n\n    .dataframe thead th {\n        text-align: right;\n    }\n</style>\n<table border=\"1\" class=\"dataframe\">\n  <thead>\n    <tr style=\"text-align: right;\">\n      <th></th>\n      <th>IdBundesland</th>\n      <th>Bundesland</th>\n      <th>Landkreis</th>\n      <th>Altersgruppe</th>\n      <th>Geschlecht</th>\n      <th>AnzahlFall</th>\n      <th>AnzahlTodesfall</th>\n      <th>Meldedatum</th>\n      <th>IdLandkreis</th>\n      <th>Datenstand</th>\n      <th>...</th>\n      <th>NeuerTodesfall</th>\n      <th>Refdatum</th>\n      <th>NeuGenesen</th>\n      <th>AnzahlGenesen</th>\n      <th>IstErkrankungsbeginn</th>\n      <th>Altersgruppe2</th>\n      <th>BelegteBetten</th>\n      <th>FreieBetten</th>\n      <th>Notfallreserve</th>\n      <th>COVID-19-Faelle</th>\n    </tr>\n  </thead>\n  <tbody>\n    <tr>\n      <th>0</th>\n      <td>1</td>\n      <td>Schleswig-Holstein</td>\n      <td>SK Flensburg</td>\n      <td>A00-A04</td>\n      <td>M</td>\n      <td>1</td>\n      <td>0</td>\n      <td>2020-09-30</td>\n      <td>1001</td>\n      <td>19.10.2020, 00:00 Uhr</td>\n      <td>...</td>\n      <td>-9</td>\n      <td>2020-09-30</td>\n      <td>0</td>\n      <td>1</td>\n      <td>0</td>\n      <td>Nicht übermittelt</td>\n      <td>636.0</td>\n      <td>412.0</td>\n      <td>286.0</td>\n      <td>2.0</td>\n    </tr>\n    <tr>\n      <th>1</th>\n      <td>1</td>\n      <td>Schleswig-Holstein</td>\n      <td>SK Flensburg</td>\n      <td>A00-A04</td>\n      <td>W</td>\n      <td>1</td>\n      <td>0</td>\n      <td>2020-08-24</td>\n      <td>1001</td>\n      <td>19.10.2020, 00:00 Uhr</td>\n      <td>...</td>\n      <td>-9</td>\n      <td>2020-08-24</td>\n      <td>0</td>\n      <td>1</td>\n      <td>0</td>\n      <td>Nicht übermittelt</td>\n      <td>588.0</td>\n      <td>461.0</td>\n      <td>286.0</td>\n      <td>2.0</td>\n    </tr>\n    <tr>\n      <th>2</th>\n      <td>1</td>\n      <td>Schleswig-Holstein</td>\n      <td>SK Flensburg</td>\n      <td>A00-A04</td>\n      <td>W</td>\n      <td>1</td>\n      <td>0</td>\n      <td>2020-09-26</td>\n      <td>1001</td>\n      <td>19.10.2020, 00:00 Uhr</td>\n      <td>...</td>\n      <td>-9</td>\n      <td>2020-09-26</td>\n      <td>0</td>\n      <td>1</td>\n      <td>0</td>\n      <td>Nicht übermittelt</td>\n      <td>627.0</td>\n      <td>417.0</td>\n      <td>287.0</td>\n      <td>5.0</td>\n    </tr>\n    <tr>\n      <th>3</th>\n      <td>1</td>\n      <td>Schleswig-Holstein</td>\n      <td>SK Flensburg</td>\n      <td>A05-A14</td>\n      <td>M</td>\n      <td>1</td>\n      <td>0</td>\n      <td>2020-09-25</td>\n      <td>1001</td>\n      <td>19.10.2020, 00:00 Uhr</td>\n      <td>...</td>\n      <td>-9</td>\n      <td>2020-09-21</td>\n      <td>0</td>\n      <td>1</td>\n      <td>1</td>\n      <td>Nicht übermittelt</td>\n      <td>626.0</td>\n      <td>418.0</td>\n      <td>288.0</td>\n      <td>4.0</td>\n    </tr>\n    <tr>\n      <th>4</th>\n      <td>1</td>\n      <td>Schleswig-Holstein</td>\n      <td>SK Flensburg</td>\n      <td>A05-A14</td>\n      <td>M</td>\n      <td>1</td>\n      <td>0</td>\n      <td>2020-09-26</td>\n      <td>1001</td>\n      <td>19.10.2020, 00:00 Uhr</td>\n      <td>...</td>\n      <td>-9</td>\n      <td>2020-09-21</td>\n      <td>0</td>\n      <td>1</td>\n      <td>1</td>\n      <td>Nicht übermittelt</td>\n      <td>627.0</td>\n      <td>417.0</td>\n      <td>287.0</td>\n      <td>5.0</td>\n    </tr>\n  </tbody>\n</table>\n<p>5 rows × 21 columns</p>\n</div>"
     },
     "metadata": {},
     "execution_count": 4
    }
   ],
   "source": [
    "import pandas as pd \n",
    "import numpy as np\n",
    "\n",
    "covid19 = pd.read_csv(\"./data/intensivData/newRKi.csv\", parse_dates=[\"Meldedatum\", \"Refdatum\"], dayfirst=False)\n",
    "\n",
    "covid19.head()"
   ]
  },
  {
   "cell_type": "code",
   "execution_count": null,
   "metadata": {},
   "outputs": [],
   "source": [
    "import matplotlib.pyplot as plt\n",
    "import seaborn as sns\n",
    "\n"
   ]
  },
  {
   "cell_type": "code",
   "execution_count": 5,
   "metadata": {},
   "outputs": [
    {
     "output_type": "execute_result",
     "data": {
      "text/plain": [
       "Empty DataFrame\n",
       "Columns: [IdBundesland, Bundesland, Landkreis, Altersgruppe, Geschlecht, AnzahlFall, AnzahlTodesfall, Meldedatum, IdLandkreis, Datenstand, NeuerFall, NeuerTodesfall, Refdatum, NeuGenesen, AnzahlGenesen, IstErkrankungsbeginn, Altersgruppe2, BelegteBetten, FreieBetten, Notfallreserve, COVID-19-Faelle]\n",
       "Index: []\n",
       "\n",
       "[0 rows x 21 columns]"
      ],
      "text/html": "<div>\n<style scoped>\n    .dataframe tbody tr th:only-of-type {\n        vertical-align: middle;\n    }\n\n    .dataframe tbody tr th {\n        vertical-align: top;\n    }\n\n    .dataframe thead th {\n        text-align: right;\n    }\n</style>\n<table border=\"1\" class=\"dataframe\">\n  <thead>\n    <tr style=\"text-align: right;\">\n      <th></th>\n      <th>IdBundesland</th>\n      <th>Bundesland</th>\n      <th>Landkreis</th>\n      <th>Altersgruppe</th>\n      <th>Geschlecht</th>\n      <th>AnzahlFall</th>\n      <th>AnzahlTodesfall</th>\n      <th>Meldedatum</th>\n      <th>IdLandkreis</th>\n      <th>Datenstand</th>\n      <th>...</th>\n      <th>NeuerTodesfall</th>\n      <th>Refdatum</th>\n      <th>NeuGenesen</th>\n      <th>AnzahlGenesen</th>\n      <th>IstErkrankungsbeginn</th>\n      <th>Altersgruppe2</th>\n      <th>BelegteBetten</th>\n      <th>FreieBetten</th>\n      <th>Notfallreserve</th>\n      <th>COVID-19-Faelle</th>\n    </tr>\n  </thead>\n  <tbody>\n  </tbody>\n</table>\n<p>0 rows × 21 columns</p>\n</div>"
     },
     "metadata": {},
     "execution_count": 5
    }
   ],
   "source": [
    "t[(t.Meldedatum >= \"2020-03-20\") & (t.Notfallreserve.isna())]"
   ]
  },
  {
   "source": [
    "## Build the Model"
   ],
   "cell_type": "markdown",
   "metadata": {}
  },
  {
   "cell_type": "code",
   "execution_count": null,
   "metadata": {},
   "outputs": [],
   "source": [
    "from sklearn.pipeline import Pipeline\n",
    "from sklearn.preprocessing import OneHotEncoder, StandardScaler\n",
    "from sklearn.compose import ColumnTransformer\n",
    "from sklearn.linear_model import LogisticRegression\n",
    "\n",
    "num_transformer = Pipeline([\n",
    "    (\"scaler\", StandardScaler())\n",
    "])\n",
    "\n",
    "cat_transfomer = Pipeline([\n",
    "    (\"onehot\", OneHotEncoder(handle_unknown=\"ignore\"))\n",
    "])\n",
    "\n",
    "preprocessor = ColumnTransformer([\n",
    "    (\"num\", num_transformer, [\"Altersgruppe\"]),\n",
    "    (\"cat\", cat_transfomer, [\"Bundesland\", \"Landkreis\", \"Geschlecht\"])\n",
    "])\n",
    "\n",
    "model = Pipeline([\n",
    "    (\"pre\", preprocessor),\n",
    "    (\"clf\", LogisticRegression())\n",
    "])"
   ]
  }
 ]
}